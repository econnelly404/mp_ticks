{
 "cells": [
  {
   "cell_type": "markdown",
   "id": "iraqi-capability",
   "metadata": {},
   "source": [
    "# Mountain Project Ticks\n",
    "[Mountain Project](https://www.mountainproject.com/) is a website that serves as a community-built guide for rock climbing areas around the globe. The site allows users to track (\"tick\") each attempt of a route and record various information related to the attempt and the climber's opinion of the route. Mountain Project allows all of a user's ticks to be exported as CSV and downloaded. In this notebook, we will clean a data set containing the author's Mountain Project [tick list](https://www.mountainproject.com/user/112173761/eric-connelly/ticks) and plot various aspects to better understand the author's current trajectory in climbing as a sport.\n",
    "\n",
    "## Cleaning\n",
    "First we will read in the data and perform some initial cleaning. The tick list downloaded from Mountain Project is saved in the same directory as this notebook and named `ticks.csv`. "
   ]
  },
  {
   "cell_type": "code",
   "execution_count": 1,
   "id": "academic-eugene",
   "metadata": {},
   "outputs": [
    {
     "name": "stdout",
     "output_type": "stream",
     "text": [
      "<class 'pandas.core.frame.DataFrame'>\n",
      "RangeIndex: 368 entries, 0 to 367\n",
      "Data columns (total 15 columns):\n",
      " #   Column       Non-Null Count  Dtype  \n",
      "---  ------       --------------  -----  \n",
      " 0   Date         368 non-null    object \n",
      " 1   Route        368 non-null    object \n",
      " 2   Rating       368 non-null    object \n",
      " 3   Notes        204 non-null    object \n",
      " 4   URL          368 non-null    object \n",
      " 5   Pitches      368 non-null    int64  \n",
      " 6   Location     368 non-null    object \n",
      " 7   Avg Stars    368 non-null    float64\n",
      " 8   Your Stars   368 non-null    int64  \n",
      " 9   Style        368 non-null    object \n",
      " 10  Lead Style   322 non-null    object \n",
      " 11  Route Type   368 non-null    object \n",
      " 12  Your Rating  163 non-null    object \n",
      " 13  Length       269 non-null    float64\n",
      " 14  Rating Code  368 non-null    int64  \n",
      "dtypes: float64(2), int64(3), object(10)\n",
      "memory usage: 43.2+ KB\n"
     ]
    }
   ],
   "source": [
    "%matplotlib inline\n",
    "import pandas as pd\n",
    "import numpy as np\n",
    "import matplotlib.pyplot as plt\n",
    "import seaborn as sns\n",
    "\n",
    "ticks = pd.read_csv(\"ticks.csv\")\n",
    "ticks.info()"
   ]
  },
  {
   "cell_type": "code",
   "execution_count": 2,
   "id": "trained-circular",
   "metadata": {},
   "outputs": [
    {
     "data": {
      "text/html": [
       "<div>\n",
       "<style scoped>\n",
       "    .dataframe tbody tr th:only-of-type {\n",
       "        vertical-align: middle;\n",
       "    }\n",
       "\n",
       "    .dataframe tbody tr th {\n",
       "        vertical-align: top;\n",
       "    }\n",
       "\n",
       "    .dataframe thead th {\n",
       "        text-align: right;\n",
       "    }\n",
       "</style>\n",
       "<table border=\"1\" class=\"dataframe\">\n",
       "  <thead>\n",
       "    <tr style=\"text-align: right;\">\n",
       "      <th></th>\n",
       "      <th>Date</th>\n",
       "      <th>Route</th>\n",
       "      <th>Rating</th>\n",
       "      <th>Notes</th>\n",
       "      <th>URL</th>\n",
       "      <th>Pitches</th>\n",
       "      <th>Location</th>\n",
       "      <th>Avg Stars</th>\n",
       "      <th>Your Stars</th>\n",
       "      <th>Style</th>\n",
       "      <th>Lead Style</th>\n",
       "      <th>Route Type</th>\n",
       "      <th>Your Rating</th>\n",
       "      <th>Length</th>\n",
       "      <th>Rating Code</th>\n",
       "    </tr>\n",
       "  </thead>\n",
       "  <tbody>\n",
       "    <tr>\n",
       "      <th>0</th>\n",
       "      <td>2021-01-24</td>\n",
       "      <td>Tennis Shoe Arete</td>\n",
       "      <td>V2</td>\n",
       "      <td>NaN</td>\n",
       "      <td>https://www.mountainproject.com/route/10841295...</td>\n",
       "      <td>1</td>\n",
       "      <td>Illinois &gt; *The Holy Boulders &gt; F: Shadow of a...</td>\n",
       "      <td>2.6</td>\n",
       "      <td>3</td>\n",
       "      <td>Send</td>\n",
       "      <td>NaN</td>\n",
       "      <td>Boulder</td>\n",
       "      <td>V2</td>\n",
       "      <td>NaN</td>\n",
       "      <td>20200</td>\n",
       "    </tr>\n",
       "    <tr>\n",
       "      <th>1</th>\n",
       "      <td>2021-01-23</td>\n",
       "      <td>Davenport of a Man</td>\n",
       "      <td>V6+</td>\n",
       "      <td>NaN</td>\n",
       "      <td>https://www.mountainproject.com/route/12022937...</td>\n",
       "      <td>1</td>\n",
       "      <td>Illinois &gt; *The Holy Boulders &gt; F: Shadow of a...</td>\n",
       "      <td>3.0</td>\n",
       "      <td>3</td>\n",
       "      <td>Send</td>\n",
       "      <td>NaN</td>\n",
       "      <td>Boulder</td>\n",
       "      <td>V6+</td>\n",
       "      <td>20.0</td>\n",
       "      <td>20610</td>\n",
       "    </tr>\n",
       "    <tr>\n",
       "      <th>2</th>\n",
       "      <td>2021-01-23</td>\n",
       "      <td>Calypso</td>\n",
       "      <td>V6</td>\n",
       "      <td>Day flash</td>\n",
       "      <td>https://www.mountainproject.com/route/11176770...</td>\n",
       "      <td>1</td>\n",
       "      <td>Illinois &gt; *The Holy Boulders &gt; D: Atlas Boulder</td>\n",
       "      <td>3.6</td>\n",
       "      <td>3</td>\n",
       "      <td>Send</td>\n",
       "      <td>NaN</td>\n",
       "      <td>Boulder</td>\n",
       "      <td>V6</td>\n",
       "      <td>10.0</td>\n",
       "      <td>20600</td>\n",
       "    </tr>\n",
       "    <tr>\n",
       "      <th>3</th>\n",
       "      <td>2021-01-23</td>\n",
       "      <td>Sukha Sit</td>\n",
       "      <td>V5</td>\n",
       "      <td>NaN</td>\n",
       "      <td>https://www.mountainproject.com/route/11128934...</td>\n",
       "      <td>1</td>\n",
       "      <td>Illinois &gt; *The Holy Boulders &gt; K: Brown Cow Area</td>\n",
       "      <td>3.1</td>\n",
       "      <td>3</td>\n",
       "      <td>Send</td>\n",
       "      <td>NaN</td>\n",
       "      <td>Boulder</td>\n",
       "      <td>NaN</td>\n",
       "      <td>NaN</td>\n",
       "      <td>20500</td>\n",
       "    </tr>\n",
       "    <tr>\n",
       "      <th>4</th>\n",
       "      <td>2021-01-23</td>\n",
       "      <td>Weight of the World</td>\n",
       "      <td>V6</td>\n",
       "      <td>NaN</td>\n",
       "      <td>https://www.mountainproject.com/route/11224429...</td>\n",
       "      <td>1</td>\n",
       "      <td>Illinois &gt; *The Holy Boulders &gt; D: Atlas Boulder</td>\n",
       "      <td>3.0</td>\n",
       "      <td>3</td>\n",
       "      <td>Send</td>\n",
       "      <td>NaN</td>\n",
       "      <td>Boulder</td>\n",
       "      <td>NaN</td>\n",
       "      <td>NaN</td>\n",
       "      <td>20600</td>\n",
       "    </tr>\n",
       "  </tbody>\n",
       "</table>\n",
       "</div>"
      ],
      "text/plain": [
       "         Date                Route Rating      Notes  \\\n",
       "0  2021-01-24    Tennis Shoe Arete     V2        NaN   \n",
       "1  2021-01-23   Davenport of a Man    V6+        NaN   \n",
       "2  2021-01-23              Calypso     V6  Day flash   \n",
       "3  2021-01-23            Sukha Sit     V5        NaN   \n",
       "4  2021-01-23  Weight of the World     V6        NaN   \n",
       "\n",
       "                                                 URL  Pitches  \\\n",
       "0  https://www.mountainproject.com/route/10841295...        1   \n",
       "1  https://www.mountainproject.com/route/12022937...        1   \n",
       "2  https://www.mountainproject.com/route/11176770...        1   \n",
       "3  https://www.mountainproject.com/route/11128934...        1   \n",
       "4  https://www.mountainproject.com/route/11224429...        1   \n",
       "\n",
       "                                            Location  Avg Stars  Your Stars  \\\n",
       "0  Illinois > *The Holy Boulders > F: Shadow of a...        2.6           3   \n",
       "1  Illinois > *The Holy Boulders > F: Shadow of a...        3.0           3   \n",
       "2   Illinois > *The Holy Boulders > D: Atlas Boulder        3.6           3   \n",
       "3  Illinois > *The Holy Boulders > K: Brown Cow Area        3.1           3   \n",
       "4   Illinois > *The Holy Boulders > D: Atlas Boulder        3.0           3   \n",
       "\n",
       "  Style Lead Style Route Type Your Rating  Length  Rating Code  \n",
       "0  Send        NaN    Boulder          V2     NaN        20200  \n",
       "1  Send        NaN    Boulder         V6+    20.0        20610  \n",
       "2  Send        NaN    Boulder          V6    10.0        20600  \n",
       "3  Send        NaN    Boulder         NaN     NaN        20500  \n",
       "4  Send        NaN    Boulder         NaN     NaN        20600  "
      ]
     },
     "execution_count": 2,
     "metadata": {},
     "output_type": "execute_result"
    }
   ],
   "source": [
    "ticks.head()"
   ]
  },
  {
   "cell_type": "markdown",
   "id": "appropriate-depression",
   "metadata": {},
   "source": [
    "We will work through each column one by one, but at first glance we appear to be in relatively good shape as far as null values go. Only four of the fourteen columns contain null values. \n",
    "\n",
    "First we will address the `Date` column. Pandas read its contents as string values, but it will be easier to work with if we convert to a datetime object. We will also create another column with just the year since that may be useful for the upcoming analysis."
   ]
  },
  {
   "cell_type": "code",
   "execution_count": 3,
   "id": "premium-pledge",
   "metadata": {},
   "outputs": [],
   "source": [
    "ticks['Date'] = pd.to_datetime(ticks['Date'])\n",
    "ticks['Year'] = ticks['Date'].dt.year"
   ]
  },
  {
   "cell_type": "markdown",
   "id": "numerical-burden",
   "metadata": {},
   "source": [
    "Next comes the `Route` column. This is just text and does not contain any null values, so all we will do is ensure that the route names don't have any unexpected characters. We use the regex expression `[^ -~]` to target any characters outside of the range of the standard ASCII character set."
   ]
  },
  {
   "cell_type": "code",
   "execution_count": 4,
   "id": "copyrighted-pursuit",
   "metadata": {},
   "outputs": [
    {
     "data": {
      "text/html": [
       "<div>\n",
       "<style scoped>\n",
       "    .dataframe tbody tr th:only-of-type {\n",
       "        vertical-align: middle;\n",
       "    }\n",
       "\n",
       "    .dataframe tbody tr th {\n",
       "        vertical-align: top;\n",
       "    }\n",
       "\n",
       "    .dataframe thead th {\n",
       "        text-align: right;\n",
       "    }\n",
       "</style>\n",
       "<table border=\"1\" class=\"dataframe\">\n",
       "  <thead>\n",
       "    <tr style=\"text-align: right;\">\n",
       "      <th></th>\n",
       "      <th>Date</th>\n",
       "      <th>Route</th>\n",
       "      <th>Rating</th>\n",
       "      <th>Notes</th>\n",
       "      <th>URL</th>\n",
       "      <th>Pitches</th>\n",
       "      <th>Location</th>\n",
       "      <th>Avg Stars</th>\n",
       "      <th>Your Stars</th>\n",
       "      <th>Style</th>\n",
       "      <th>Lead Style</th>\n",
       "      <th>Route Type</th>\n",
       "      <th>Your Rating</th>\n",
       "      <th>Length</th>\n",
       "      <th>Rating Code</th>\n",
       "      <th>Year</th>\n",
       "    </tr>\n",
       "  </thead>\n",
       "  <tbody>\n",
       "    <tr>\n",
       "      <th>20</th>\n",
       "      <td>2020-10-04</td>\n",
       "      <td>Ain’t No Sunshine</td>\n",
       "      <td>5.12c</td>\n",
       "      <td>Second go</td>\n",
       "      <td>https://www.mountainproject.com/route/11534696...</td>\n",
       "      <td>2</td>\n",
       "      <td>Illinois &gt; *Jackson Falls &gt; B. West Falls &gt; C....</td>\n",
       "      <td>2.8</td>\n",
       "      <td>3</td>\n",
       "      <td>Lead</td>\n",
       "      <td>Redpoint</td>\n",
       "      <td>Sport</td>\n",
       "      <td>5.12c</td>\n",
       "      <td>35.0</td>\n",
       "      <td>7200</td>\n",
       "      <td>2020</td>\n",
       "    </tr>\n",
       "    <tr>\n",
       "      <th>32</th>\n",
       "      <td>2020-03-01</td>\n",
       "      <td>Rajun’ Cajun</td>\n",
       "      <td>5.12d</td>\n",
       "      <td>Six(ish) attempts. Needed some help with beta.</td>\n",
       "      <td>https://www.mountainproject.com/route/11534690...</td>\n",
       "      <td>6</td>\n",
       "      <td>Illinois &gt; *Jackson Falls &gt; B. West Falls &gt; C....</td>\n",
       "      <td>3.8</td>\n",
       "      <td>4</td>\n",
       "      <td>Lead</td>\n",
       "      <td>Redpoint</td>\n",
       "      <td>Sport</td>\n",
       "      <td>NaN</td>\n",
       "      <td>40.0</td>\n",
       "      <td>7500</td>\n",
       "      <td>2020</td>\n",
       "    </tr>\n",
       "    <tr>\n",
       "      <th>176</th>\n",
       "      <td>2018-07-22</td>\n",
       "      <td>Can’t Take the Funk</td>\n",
       "      <td>5.10d</td>\n",
       "      <td>Cool slab, but I have never seen more lichen o...</td>\n",
       "      <td>https://www.mountainproject.com/route/11436432...</td>\n",
       "      <td>1</td>\n",
       "      <td>Illinois &gt; *Jackson Falls &gt; F. The Promised Land</td>\n",
       "      <td>2.7</td>\n",
       "      <td>3</td>\n",
       "      <td>Lead</td>\n",
       "      <td>Fell/Hung</td>\n",
       "      <td>Sport</td>\n",
       "      <td>NaN</td>\n",
       "      <td>50.0</td>\n",
       "      <td>3500</td>\n",
       "      <td>2018</td>\n",
       "    </tr>\n",
       "  </tbody>\n",
       "</table>\n",
       "</div>"
      ],
      "text/plain": [
       "          Date                Route Rating  \\\n",
       "20  2020-10-04    Ain’t No Sunshine  5.12c   \n",
       "32  2020-03-01         Rajun’ Cajun  5.12d   \n",
       "176 2018-07-22  Can’t Take the Funk  5.10d   \n",
       "\n",
       "                                                 Notes  \\\n",
       "20                                           Second go   \n",
       "32      Six(ish) attempts. Needed some help with beta.   \n",
       "176  Cool slab, but I have never seen more lichen o...   \n",
       "\n",
       "                                                   URL  Pitches  \\\n",
       "20   https://www.mountainproject.com/route/11534696...        2   \n",
       "32   https://www.mountainproject.com/route/11534690...        6   \n",
       "176  https://www.mountainproject.com/route/11436432...        1   \n",
       "\n",
       "                                              Location  Avg Stars  Your Stars  \\\n",
       "20   Illinois > *Jackson Falls > B. West Falls > C....        2.8           3   \n",
       "32   Illinois > *Jackson Falls > B. West Falls > C....        3.8           4   \n",
       "176   Illinois > *Jackson Falls > F. The Promised Land        2.7           3   \n",
       "\n",
       "    Style Lead Style Route Type Your Rating  Length  Rating Code  Year  \n",
       "20   Lead   Redpoint      Sport       5.12c    35.0         7200  2020  \n",
       "32   Lead   Redpoint      Sport         NaN    40.0         7500  2020  \n",
       "176  Lead  Fell/Hung      Sport         NaN    50.0         3500  2018  "
      ]
     },
     "execution_count": 4,
     "metadata": {},
     "output_type": "execute_result"
    }
   ],
   "source": [
    "ticks[ticks['Route'].str.contains(r'[^ -~]')]"
   ]
  },
  {
   "cell_type": "markdown",
   "id": "sixth-length",
   "metadata": {},
   "source": [
    "All three of the routes returned have a unicode typographic apostrophe instead of the ASCII typwriter apostrophe. This will not cause any issues with analysis, so we will leave them.\n",
    "\n",
    "Next we will want to look at the `Rating` column. (See [this page](https://www.rei.com/learn/expert-advice/climbing-bouldering-rating.html) for an explanation of the rating systems commonly used in the US). Note that \"Rating\" and \"Grade\" are used as interchangable terms in this notebook. We will use `Series.value_counts()` method to list every grade in the tick list and the number of times it was recorded."
   ]
  },
  {
   "cell_type": "code",
   "execution_count": 5,
   "id": "necessary-joseph",
   "metadata": {},
   "outputs": [
    {
     "data": {
      "text/plain": [
       "5.12a         46\n",
       "5.9           27\n",
       "5.10b         25\n",
       "5.12c         23\n",
       "5.12b         23\n",
       "5.10a         21\n",
       "5.11a         20\n",
       "5.13a         16\n",
       "5.10c         12\n",
       "5.12d         12\n",
       "5.11c         11\n",
       "5.8            9\n",
       "5.10d          9\n",
       "5.11b          9\n",
       "5.8+           8\n",
       "V5             8\n",
       "V4             7\n",
       "5.11d          5\n",
       "5.7            5\n",
       "V6             5\n",
       "5.6            4\n",
       "V7             4\n",
       "V3             4\n",
       "5.7+           4\n",
       "V5-6           3\n",
       "V2-3           3\n",
       "5.12b/c        3\n",
       "V1             3\n",
       "V2             3\n",
       "5.9+           2\n",
       "V6+            2\n",
       "5.11b/c        2\n",
       "5.8-           2\n",
       "5.10d PG13     2\n",
       "V1 R           2\n",
       "V0             2\n",
       "V3+            2\n",
       "5.12a/b        1\n",
       "5.10-          1\n",
       "5.10+          1\n",
       "5.9+ PG13      1\n",
       "V5 PG13        1\n",
       "V2 R           1\n",
       "V0- R          1\n",
       "V4-5           1\n",
       "5.11c V3 X     1\n",
       "5.12b/c V5     1\n",
       "V0-            1\n",
       "5.10c/d        1\n",
       "V1+            1\n",
       "5.11-          1\n",
       "5.13c          1\n",
       "V0-1           1\n",
       "V0+            1\n",
       "5.8 PG13       1\n",
       "5.9-           1\n",
       "5.10           1\n",
       "Name: Rating, dtype: int64"
      ]
     },
     "execution_count": 5,
     "metadata": {},
     "output_type": "execute_result"
    }
   ],
   "source": [
    "ticks['Rating'].value_counts()"
   ]
  },
  {
   "cell_type": "markdown",
   "id": "cultural-baseball",
   "metadata": {},
   "source": [
    "We see that there are a few ratings that contain more than one rating, which can happen under circumstances. We are most interested in the primary grade of any route, so we will split any additional rating information into a secondary `Rating_2` column."
   ]
  },
  {
   "cell_type": "code",
   "execution_count": 6,
   "id": "breathing-discretion",
   "metadata": {},
   "outputs": [],
   "source": [
    "ticks[['Rating', 'Rating_2']] = ticks['Rating'].str.split(n=1, expand=True)"
   ]
  },
  {
   "cell_type": "markdown",
   "id": "primary-brazilian",
   "metadata": {},
   "source": [
    "The `Notes` column contains any notes that were entered with the tick. It is an optional field on Mountain Project, so it makes sense that there are several null values in the column. We will not being doing any analysis with this column, so we can pass over it. The `URL` column just contains the URL of the Mountain Project page for the climb ticked and likewise does not need any cleaning.\n",
    "\n",
    "`Pitches` refers to the number of rope lengths needed to climb a particular route. This should be a relatively small integer value. Let us use `Series.value_counts()` to confirm."
   ]
  },
  {
   "cell_type": "code",
   "execution_count": 7,
   "id": "saving-dynamics",
   "metadata": {},
   "outputs": [
    {
     "data": {
      "text/plain": [
       "1     310\n",
       "2      34\n",
       "3       9\n",
       "4       5\n",
       "6       3\n",
       "5       2\n",
       "7       2\n",
       "9       1\n",
       "10      1\n",
       "22      1\n",
       "Name: Pitches, dtype: int64"
      ]
     },
     "execution_count": 7,
     "metadata": {},
     "output_type": "execute_result"
    }
   ],
   "source": [
    "ticks['Pitches'].value_counts()"
   ]
  },
  {
   "cell_type": "markdown",
   "id": "failing-plaza",
   "metadata": {},
   "source": [
    "The values for number of pitches seems reasonable except perhaps the outlier with 22 pitches, but that can be accounted for by a tick for a one [particularly long climb](https://www.mountainproject.com/route/106087605/time-wave-zero). The column is already an integer dtype, so no other cleaning needs to be done here.\n",
    "\n",
    "Next is the `Location` column. Mountain Project allows locations to be broken down into any number of subareas. The location of most climbs typically has at least three levels in its location hierarchy, so we will split the location into three separate columns, with the `Subarea` column containing all location information after the first two levels of the location hierarchy. Because Mountain Project is primarily US based, the top level division is `State`. Let us take the `value_counts()` of `State` and `Area` to check the values in each."
   ]
  },
  {
   "cell_type": "code",
   "execution_count": 8,
   "id": "intensive-commission",
   "metadata": {},
   "outputs": [
    {
     "data": {
      "text/plain": [
       "Illinois         243\n",
       "Kentucky          44\n",
       "Colorado          25\n",
       "Arkansas          21\n",
       "International     21\n",
       "California        12\n",
       "Nevada             2\n",
       "Name: State, dtype: int64"
      ]
     },
     "execution_count": 8,
     "metadata": {},
     "output_type": "execute_result"
    }
   ],
   "source": [
    "ticks[['State', 'Area', 'Subarea']] = ticks['Location'].str.split(pat=' > ', n=2, expand=True)\n",
    "ticks['State'].value_counts()"
   ]
  },
  {
   "cell_type": "code",
   "execution_count": 9,
   "id": "liable-jones",
   "metadata": {},
   "outputs": [
    {
     "data": {
      "text/plain": [
       "*Jackson Falls               197\n",
       "*The Holy Boulders            46\n",
       "Red River Gorge               44\n",
       "North America                 21\n",
       "North-Central Arkansas        21\n",
       "Rifle                         12\n",
       "Joshua Tree National Park      9\n",
       "Fort Collins                   9\n",
       "Yosemite National Park         3\n",
       "Southern Nevada                2\n",
       "Estes Park Valley              2\n",
       "Independence Pass              2\n",
       "Name: Area, dtype: int64"
      ]
     },
     "execution_count": 9,
     "metadata": {},
     "output_type": "execute_result"
    }
   ],
   "source": [
    "ticks['Area'].value_counts()"
   ]
  },
  {
   "cell_type": "markdown",
   "id": "satisfactory-concern",
   "metadata": {},
   "source": [
    "The first two areas contain an extraneous `*` character for sorting purposes within the Mountain Project listing for Illinois. That is not needed here, so we will remove it."
   ]
  },
  {
   "cell_type": "code",
   "execution_count": 10,
   "id": "public-neighborhood",
   "metadata": {},
   "outputs": [],
   "source": [
    "ticks['Area'] = ticks['Area'].str.replace('*', '', regex=False)"
   ]
  },
  {
   "cell_type": "markdown",
   "id": "leading-navigator",
   "metadata": {},
   "source": [
    "The next couple columns are numerical columns that can take on a range of values, so we will use the `Series.describe()` method to ensure their values fall within a reasonable range. \n",
    "\n",
    "Mountian Project users have the option to give any climb a star rating on a zero to four point scale reflecting the quality of the route. The average of all ratings for a climb is recorded in the `Avg Stars` column, while the number of stars given by the user is recorded in `Your Stars`."
   ]
  },
  {
   "cell_type": "code",
   "execution_count": 11,
   "id": "familiar-cathedral",
   "metadata": {},
   "outputs": [
    {
     "data": {
      "text/plain": [
       "count    368.000000\n",
       "mean       3.241304\n",
       "std        0.532211\n",
       "min        1.600000\n",
       "25%        2.900000\n",
       "50%        3.300000\n",
       "75%        3.700000\n",
       "max        4.000000\n",
       "Name: Avg Stars, dtype: float64"
      ]
     },
     "execution_count": 11,
     "metadata": {},
     "output_type": "execute_result"
    }
   ],
   "source": [
    "ticks['Avg Stars'].describe()"
   ]
  },
  {
   "cell_type": "code",
   "execution_count": 12,
   "id": "structural-wilson",
   "metadata": {},
   "outputs": [
    {
     "data": {
      "text/plain": [
       "count    368.000000\n",
       "mean       3.364130\n",
       "std        0.790279\n",
       "min       -1.000000\n",
       "25%        3.000000\n",
       "50%        3.000000\n",
       "75%        4.000000\n",
       "max        4.000000\n",
       "Name: Your Stars, dtype: float64"
      ]
     },
     "execution_count": 12,
     "metadata": {},
     "output_type": "execute_result"
    }
   ],
   "source": [
    "ticks['Your Stars'].describe()"
   ]
  },
  {
   "cell_type": "markdown",
   "id": "heard-grace",
   "metadata": {},
   "source": [
    "The min and max of the `Avg Stars` column fall within the range of acceptable values for that measurement. The distrubution seems reasonable at a glance despite a tendency to lean towards the upper end of the scale.\n",
    "\n",
    "`Your Stars` appears to have some problematic values. The minimum of this column is -1 on a scale that should start at 0. Let us look at any values below 1 to investigate."
   ]
  },
  {
   "cell_type": "code",
   "execution_count": 13,
   "id": "neutral-vegetable",
   "metadata": {},
   "outputs": [
    {
     "data": {
      "text/html": [
       "<div>\n",
       "<style scoped>\n",
       "    .dataframe tbody tr th:only-of-type {\n",
       "        vertical-align: middle;\n",
       "    }\n",
       "\n",
       "    .dataframe tbody tr th {\n",
       "        vertical-align: top;\n",
       "    }\n",
       "\n",
       "    .dataframe thead th {\n",
       "        text-align: right;\n",
       "    }\n",
       "</style>\n",
       "<table border=\"1\" class=\"dataframe\">\n",
       "  <thead>\n",
       "    <tr style=\"text-align: right;\">\n",
       "      <th></th>\n",
       "      <th>Date</th>\n",
       "      <th>Route</th>\n",
       "      <th>Rating</th>\n",
       "      <th>Notes</th>\n",
       "      <th>URL</th>\n",
       "      <th>Pitches</th>\n",
       "      <th>Location</th>\n",
       "      <th>Avg Stars</th>\n",
       "      <th>Your Stars</th>\n",
       "      <th>Style</th>\n",
       "      <th>Lead Style</th>\n",
       "      <th>Route Type</th>\n",
       "      <th>Your Rating</th>\n",
       "      <th>Length</th>\n",
       "      <th>Rating Code</th>\n",
       "      <th>Year</th>\n",
       "      <th>Rating_2</th>\n",
       "      <th>State</th>\n",
       "      <th>Area</th>\n",
       "      <th>Subarea</th>\n",
       "    </tr>\n",
       "  </thead>\n",
       "  <tbody>\n",
       "    <tr>\n",
       "      <th>60</th>\n",
       "      <td>2019-09-28</td>\n",
       "      <td>Cocktail Generation</td>\n",
       "      <td>5.12b/c</td>\n",
       "      <td>NaN</td>\n",
       "      <td>https://www.mountainproject.com/route/10794355...</td>\n",
       "      <td>1</td>\n",
       "      <td>Illinois &gt; *Jackson Falls &gt; E. South Canyon &gt; ...</td>\n",
       "      <td>3.0</td>\n",
       "      <td>-1</td>\n",
       "      <td>Lead</td>\n",
       "      <td>Fell/Hung</td>\n",
       "      <td>Sport</td>\n",
       "      <td>NaN</td>\n",
       "      <td>50.0</td>\n",
       "      <td>7100</td>\n",
       "      <td>2019</td>\n",
       "      <td>None</td>\n",
       "      <td>Illinois</td>\n",
       "      <td>Jackson Falls</td>\n",
       "      <td>E. South Canyon &gt; C. Hidden Peaks &gt; C. Cranial...</td>\n",
       "    </tr>\n",
       "    <tr>\n",
       "      <th>122</th>\n",
       "      <td>2019-04-13</td>\n",
       "      <td>The Flail</td>\n",
       "      <td>5.12d</td>\n",
       "      <td>Nah</td>\n",
       "      <td>https://www.mountainproject.com/route/10681415...</td>\n",
       "      <td>1</td>\n",
       "      <td>Illinois &gt; *Jackson Falls &gt; B. West Falls &gt; D....</td>\n",
       "      <td>3.3</td>\n",
       "      <td>-1</td>\n",
       "      <td>Lead</td>\n",
       "      <td>Fell/Hung</td>\n",
       "      <td>Sport</td>\n",
       "      <td>NaN</td>\n",
       "      <td>NaN</td>\n",
       "      <td>7500</td>\n",
       "      <td>2019</td>\n",
       "      <td>None</td>\n",
       "      <td>Illinois</td>\n",
       "      <td>Jackson Falls</td>\n",
       "      <td>B. West Falls &gt; D. Battle Axe Tower</td>\n",
       "    </tr>\n",
       "    <tr>\n",
       "      <th>272</th>\n",
       "      <td>2018-04-21</td>\n",
       "      <td>Red Corvette</td>\n",
       "      <td>5.13a</td>\n",
       "      <td>NaN</td>\n",
       "      <td>https://www.mountainproject.com/route/10613022...</td>\n",
       "      <td>1</td>\n",
       "      <td>Illinois &gt; *Jackson Falls &gt; A. North Canyon &gt; ...</td>\n",
       "      <td>3.8</td>\n",
       "      <td>-1</td>\n",
       "      <td>Lead</td>\n",
       "      <td>Fell/Hung</td>\n",
       "      <td>Sport</td>\n",
       "      <td>NaN</td>\n",
       "      <td>45.0</td>\n",
       "      <td>8600</td>\n",
       "      <td>2018</td>\n",
       "      <td>None</td>\n",
       "      <td>Illinois</td>\n",
       "      <td>Jackson Falls</td>\n",
       "      <td>A. North Canyon &gt; D. Beaver Wall</td>\n",
       "    </tr>\n",
       "    <tr>\n",
       "      <th>351</th>\n",
       "      <td>2017-10-07</td>\n",
       "      <td>Colt 45</td>\n",
       "      <td>5.12b</td>\n",
       "      <td>NaN</td>\n",
       "      <td>https://www.mountainproject.com/route/11042848...</td>\n",
       "      <td>1</td>\n",
       "      <td>Kentucky &gt; Red River Gorge &gt; Pendergrass-Murra...</td>\n",
       "      <td>3.3</td>\n",
       "      <td>-1</td>\n",
       "      <td>Lead</td>\n",
       "      <td>Fell/Hung</td>\n",
       "      <td>Sport</td>\n",
       "      <td>5.12b</td>\n",
       "      <td>75.0</td>\n",
       "      <td>6900</td>\n",
       "      <td>2017</td>\n",
       "      <td>None</td>\n",
       "      <td>Kentucky</td>\n",
       "      <td>Red River Gorge</td>\n",
       "      <td>Pendergrass-Murray Recreational Preserve (PMRP...</td>\n",
       "    </tr>\n",
       "    <tr>\n",
       "      <th>352</th>\n",
       "      <td>2017-10-07</td>\n",
       "      <td>Old English</td>\n",
       "      <td>5.10c</td>\n",
       "      <td>NaN</td>\n",
       "      <td>https://www.mountainproject.com/route/10812146...</td>\n",
       "      <td>1</td>\n",
       "      <td>Kentucky &gt; Red River Gorge &gt; Pendergrass-Murra...</td>\n",
       "      <td>3.1</td>\n",
       "      <td>-1</td>\n",
       "      <td>Lead</td>\n",
       "      <td>Onsight</td>\n",
       "      <td>Sport</td>\n",
       "      <td>5.10b</td>\n",
       "      <td>75.0</td>\n",
       "      <td>3200</td>\n",
       "      <td>2017</td>\n",
       "      <td>None</td>\n",
       "      <td>Kentucky</td>\n",
       "      <td>Red River Gorge</td>\n",
       "      <td>Pendergrass-Murray Recreational Preserve (PMRP...</td>\n",
       "    </tr>\n",
       "  </tbody>\n",
       "</table>\n",
       "</div>"
      ],
      "text/plain": [
       "          Date                Route   Rating Notes  \\\n",
       "60  2019-09-28  Cocktail Generation  5.12b/c   NaN   \n",
       "122 2019-04-13            The Flail    5.12d   Nah   \n",
       "272 2018-04-21         Red Corvette    5.13a   NaN   \n",
       "351 2017-10-07              Colt 45    5.12b   NaN   \n",
       "352 2017-10-07          Old English    5.10c   NaN   \n",
       "\n",
       "                                                   URL  Pitches  \\\n",
       "60   https://www.mountainproject.com/route/10794355...        1   \n",
       "122  https://www.mountainproject.com/route/10681415...        1   \n",
       "272  https://www.mountainproject.com/route/10613022...        1   \n",
       "351  https://www.mountainproject.com/route/11042848...        1   \n",
       "352  https://www.mountainproject.com/route/10812146...        1   \n",
       "\n",
       "                                              Location  Avg Stars  Your Stars  \\\n",
       "60   Illinois > *Jackson Falls > E. South Canyon > ...        3.0          -1   \n",
       "122  Illinois > *Jackson Falls > B. West Falls > D....        3.3          -1   \n",
       "272  Illinois > *Jackson Falls > A. North Canyon > ...        3.8          -1   \n",
       "351  Kentucky > Red River Gorge > Pendergrass-Murra...        3.3          -1   \n",
       "352  Kentucky > Red River Gorge > Pendergrass-Murra...        3.1          -1   \n",
       "\n",
       "    Style Lead Style Route Type Your Rating  Length  Rating Code  Year  \\\n",
       "60   Lead  Fell/Hung      Sport         NaN    50.0         7100  2019   \n",
       "122  Lead  Fell/Hung      Sport         NaN     NaN         7500  2019   \n",
       "272  Lead  Fell/Hung      Sport         NaN    45.0         8600  2018   \n",
       "351  Lead  Fell/Hung      Sport       5.12b    75.0         6900  2017   \n",
       "352  Lead    Onsight      Sport       5.10b    75.0         3200  2017   \n",
       "\n",
       "    Rating_2     State             Area  \\\n",
       "60      None  Illinois    Jackson Falls   \n",
       "122     None  Illinois    Jackson Falls   \n",
       "272     None  Illinois    Jackson Falls   \n",
       "351     None  Kentucky  Red River Gorge   \n",
       "352     None  Kentucky  Red River Gorge   \n",
       "\n",
       "                                               Subarea  \n",
       "60   E. South Canyon > C. Hidden Peaks > C. Cranial...  \n",
       "122                B. West Falls > D. Battle Axe Tower  \n",
       "272                   A. North Canyon > D. Beaver Wall  \n",
       "351  Pendergrass-Murray Recreational Preserve (PMRP...  \n",
       "352  Pendergrass-Murray Recreational Preserve (PMRP...  "
      ]
     },
     "execution_count": 13,
     "metadata": {},
     "output_type": "execute_result"
    }
   ],
   "source": [
    "ticks[ticks['Your Stars'] < 1]"
   ]
  },
  {
   "cell_type": "markdown",
   "id": "received-mainstream",
   "metadata": {},
   "source": [
    "There is not any particular pattern here, but after going to the author's Mountain Project page, we find that these four routes were not given a star rating. The -1 value in this case indicted a missing value. To prevent any issues with calculations, we will replace any instance of -1 with `np.nan`."
   ]
  },
  {
   "cell_type": "code",
   "execution_count": 14,
   "id": "parental-bridge",
   "metadata": {},
   "outputs": [
    {
     "data": {
      "text/plain": [
       "count    363.000000\n",
       "mean       3.424242\n",
       "std        0.605378\n",
       "min        2.000000\n",
       "25%        3.000000\n",
       "50%        3.000000\n",
       "75%        4.000000\n",
       "max        4.000000\n",
       "Name: Your Stars, dtype: float64"
      ]
     },
     "execution_count": 14,
     "metadata": {},
     "output_type": "execute_result"
    }
   ],
   "source": [
    "ticks['Your Stars'] = ticks['Your Stars'].replace(-1, np.nan)\n",
    "ticks['Your Stars'].describe()"
   ]
  },
  {
   "cell_type": "markdown",
   "id": "processed-growing",
   "metadata": {},
   "source": [
    "These values look more reasonable (although it appears the author's star values suffer from worse inflation than the average!).\n",
    "\n",
    "`Style` is a categorical variable that tells us in what fashion the climb was done. There should be only a handful of possible values for this column without any null values."
   ]
  },
  {
   "cell_type": "code",
   "execution_count": 15,
   "id": "colored-chocolate",
   "metadata": {},
   "outputs": [
    {
     "data": {
      "text/plain": [
       "Lead       322\n",
       "Send        22\n",
       "TR          11\n",
       "Flash        5\n",
       "Follow       4\n",
       "Solo         3\n",
       "Attempt      1\n",
       "Name: Style, dtype: int64"
      ]
     },
     "execution_count": 15,
     "metadata": {},
     "output_type": "execute_result"
    }
   ],
   "source": [
    "ticks['Style'].value_counts()"
   ]
  },
  {
   "cell_type": "markdown",
   "id": "specialized-discharge",
   "metadata": {},
   "source": [
    "The terminology used is quite sport-specific. For this notebook, the most important values will be \"Lead\" and \"Send\". To lead a climb is to clip the rope into protection while climbing, as opposed to the climber being belayed with the rope fixed at a point above them. To \"send\" a climb is to climb it cleanly without falling or otherwise weighting the rope. \n",
    "\n",
    "For climbs recorded as \"Lead\", the `Lead Style` column contains further information on the attempt. As expected from the counts in the `Style` column, `Lead Style` has 322 non-null values. "
   ]
  },
  {
   "cell_type": "code",
   "execution_count": 16,
   "id": "looking-jacket",
   "metadata": {},
   "outputs": [
    {
     "data": {
      "text/plain": [
       "Redpoint     114\n",
       "Fell/Hung    113\n",
       "Onsight       64\n",
       "Flash         30\n",
       "Pinkpoint      1\n",
       "Name: Lead Style, dtype: int64"
      ]
     },
     "execution_count": 16,
     "metadata": {},
     "output_type": "execute_result"
    }
   ],
   "source": [
    "ticks['Lead Style'].value_counts()"
   ]
  },
  {
   "cell_type": "markdown",
   "id": "angry-classics",
   "metadata": {},
   "source": [
    "This column is mostly jargon but does not appear to require any cleaning. For brief context, \"Redpoint\", \"Flash\", and \"Onsight\" are all different styles in which a route can be sent.\n",
    "\n",
    "`Route Type` lists what type of climb the ticked climb is. The major types that could be present in this tick list are sport, boulder, and trad (short for traditional). Let us take the `value_counts()` of the `Route Type` column to confirm that only those three are present."
   ]
  },
  {
   "cell_type": "code",
   "execution_count": 17,
   "id": "worse-annotation",
   "metadata": {},
   "outputs": [
    {
     "data": {
      "text/plain": [
       "Sport                280\n",
       "Boulder               56\n",
       "Trad                  27\n",
       "Trad, Sport            2\n",
       "Sport, Boulder         1\n",
       "Trad, TR, Boulder      1\n",
       "Sport, TR              1\n",
       "Name: Route Type, dtype: int64"
      ]
     },
     "execution_count": 17,
     "metadata": {},
     "output_type": "execute_result"
    }
   ],
   "source": [
    "ticks['Route Type'].value_counts()"
   ]
  },
  {
   "cell_type": "markdown",
   "id": "victorian-lloyd",
   "metadata": {},
   "source": [
    "Most climbs fall into one distinct category, but some have multiple types listed (including TR for top rope). Let us look at each of the multi-category climbs individually to see if we can fit them into a single category."
   ]
  },
  {
   "cell_type": "code",
   "execution_count": 18,
   "id": "classical-south",
   "metadata": {},
   "outputs": [
    {
     "data": {
      "text/html": [
       "<div>\n",
       "<style scoped>\n",
       "    .dataframe tbody tr th:only-of-type {\n",
       "        vertical-align: middle;\n",
       "    }\n",
       "\n",
       "    .dataframe tbody tr th {\n",
       "        vertical-align: top;\n",
       "    }\n",
       "\n",
       "    .dataframe thead th {\n",
       "        text-align: right;\n",
       "    }\n",
       "</style>\n",
       "<table border=\"1\" class=\"dataframe\">\n",
       "  <thead>\n",
       "    <tr style=\"text-align: right;\">\n",
       "      <th></th>\n",
       "      <th>Date</th>\n",
       "      <th>Route</th>\n",
       "      <th>Rating</th>\n",
       "      <th>Notes</th>\n",
       "      <th>URL</th>\n",
       "      <th>Pitches</th>\n",
       "      <th>Location</th>\n",
       "      <th>Avg Stars</th>\n",
       "      <th>Your Stars</th>\n",
       "      <th>Style</th>\n",
       "      <th>Lead Style</th>\n",
       "      <th>Route Type</th>\n",
       "      <th>Your Rating</th>\n",
       "      <th>Length</th>\n",
       "      <th>Rating Code</th>\n",
       "      <th>Year</th>\n",
       "      <th>Rating_2</th>\n",
       "      <th>State</th>\n",
       "      <th>Area</th>\n",
       "      <th>Subarea</th>\n",
       "    </tr>\n",
       "  </thead>\n",
       "  <tbody>\n",
       "    <tr>\n",
       "      <th>35</th>\n",
       "      <td>2020-02-22</td>\n",
       "      <td>Hydra</td>\n",
       "      <td>5.12b/c</td>\n",
       "      <td>Enjoyable movement and great aesthetics. A hid...</td>\n",
       "      <td>https://www.mountainproject.com/route/10763306...</td>\n",
       "      <td>1</td>\n",
       "      <td>Illinois &gt; *Jackson Falls &gt; C. North Falls &gt; G...</td>\n",
       "      <td>3.2</td>\n",
       "      <td>4.0</td>\n",
       "      <td>Lead</td>\n",
       "      <td>Flash</td>\n",
       "      <td>Sport, Boulder</td>\n",
       "      <td>5.12b</td>\n",
       "      <td>35.0</td>\n",
       "      <td>7100</td>\n",
       "      <td>2020</td>\n",
       "      <td>V5</td>\n",
       "      <td>Illinois</td>\n",
       "      <td>Jackson Falls</td>\n",
       "      <td>C. North Falls &gt; G. Main Pool</td>\n",
       "    </tr>\n",
       "    <tr>\n",
       "      <th>104</th>\n",
       "      <td>2019-05-05</td>\n",
       "      <td>King's Jester</td>\n",
       "      <td>5.10d</td>\n",
       "      <td>A little bit of a different flavor than the re...</td>\n",
       "      <td>https://www.mountainproject.com/route/10696481...</td>\n",
       "      <td>1</td>\n",
       "      <td>Illinois &gt; *Jackson Falls &gt; B. West Falls &gt; A....</td>\n",
       "      <td>2.9</td>\n",
       "      <td>3.0</td>\n",
       "      <td>Lead</td>\n",
       "      <td>Onsight</td>\n",
       "      <td>Trad, Sport</td>\n",
       "      <td>NaN</td>\n",
       "      <td>NaN</td>\n",
       "      <td>3500</td>\n",
       "      <td>2019</td>\n",
       "      <td>PG13</td>\n",
       "      <td>Illinois</td>\n",
       "      <td>Jackson Falls</td>\n",
       "      <td>B. West Falls &gt; A. The Gallery</td>\n",
       "    </tr>\n",
       "    <tr>\n",
       "      <th>249</th>\n",
       "      <td>2018-05-05</td>\n",
       "      <td>Big Wall Greg's Chicken Shack</td>\n",
       "      <td>5.6</td>\n",
       "      <td>NaN</td>\n",
       "      <td>https://www.mountainproject.com/route/10601747...</td>\n",
       "      <td>1</td>\n",
       "      <td>Illinois &gt; *Jackson Falls &gt; A. North Canyon &gt; ...</td>\n",
       "      <td>2.8</td>\n",
       "      <td>3.0</td>\n",
       "      <td>Lead</td>\n",
       "      <td>Redpoint</td>\n",
       "      <td>Sport, TR</td>\n",
       "      <td>5.6</td>\n",
       "      <td>NaN</td>\n",
       "      <td>1600</td>\n",
       "      <td>2018</td>\n",
       "      <td>None</td>\n",
       "      <td>Illinois</td>\n",
       "      <td>Jackson Falls</td>\n",
       "      <td>A. North Canyon &gt; A. Mr. Jimmy</td>\n",
       "    </tr>\n",
       "    <tr>\n",
       "      <th>290</th>\n",
       "      <td>2018-01-12</td>\n",
       "      <td>Dead Man Walking</td>\n",
       "      <td>5.9</td>\n",
       "      <td>Confirmed I don't super like crack climbing.</td>\n",
       "      <td>https://www.mountainproject.com/route/10608547...</td>\n",
       "      <td>1</td>\n",
       "      <td>International &gt; North America &gt; Mexico &gt; Nuevo...</td>\n",
       "      <td>3.5</td>\n",
       "      <td>2.0</td>\n",
       "      <td>Lead</td>\n",
       "      <td>Onsight</td>\n",
       "      <td>Trad, Sport</td>\n",
       "      <td>NaN</td>\n",
       "      <td>135.0</td>\n",
       "      <td>2400</td>\n",
       "      <td>2018</td>\n",
       "      <td>None</td>\n",
       "      <td>International</td>\n",
       "      <td>North America</td>\n",
       "      <td>Mexico &gt; Nuevo Leon &gt; El Potrero Chico &gt; The D...</td>\n",
       "    </tr>\n",
       "    <tr>\n",
       "      <th>341</th>\n",
       "      <td>2017-11-04</td>\n",
       "      <td>Now I'm Nothing</td>\n",
       "      <td>5.11c</td>\n",
       "      <td>NaN</td>\n",
       "      <td>https://www.mountainproject.com/route/10586802...</td>\n",
       "      <td>1</td>\n",
       "      <td>Kentucky &gt; Red River Gorge &gt; Northern Gorge &gt; ...</td>\n",
       "      <td>3.1</td>\n",
       "      <td>3.0</td>\n",
       "      <td>TR</td>\n",
       "      <td>NaN</td>\n",
       "      <td>Trad, TR, Boulder</td>\n",
       "      <td>5.11c V3 PG13</td>\n",
       "      <td>20.0</td>\n",
       "      <td>5200</td>\n",
       "      <td>2017</td>\n",
       "      <td>V3 X</td>\n",
       "      <td>Kentucky</td>\n",
       "      <td>Red River Gorge</td>\n",
       "      <td>Northern Gorge &gt; Long Wall</td>\n",
       "    </tr>\n",
       "  </tbody>\n",
       "</table>\n",
       "</div>"
      ],
      "text/plain": [
       "          Date                          Route   Rating  \\\n",
       "35  2020-02-22                          Hydra  5.12b/c   \n",
       "104 2019-05-05                  King's Jester    5.10d   \n",
       "249 2018-05-05  Big Wall Greg's Chicken Shack      5.6   \n",
       "290 2018-01-12               Dead Man Walking      5.9   \n",
       "341 2017-11-04                Now I'm Nothing    5.11c   \n",
       "\n",
       "                                                 Notes  \\\n",
       "35   Enjoyable movement and great aesthetics. A hid...   \n",
       "104  A little bit of a different flavor than the re...   \n",
       "249                                                NaN   \n",
       "290      Confirmed I don't super like crack climbing.    \n",
       "341                                                NaN   \n",
       "\n",
       "                                                   URL  Pitches  \\\n",
       "35   https://www.mountainproject.com/route/10763306...        1   \n",
       "104  https://www.mountainproject.com/route/10696481...        1   \n",
       "249  https://www.mountainproject.com/route/10601747...        1   \n",
       "290  https://www.mountainproject.com/route/10608547...        1   \n",
       "341  https://www.mountainproject.com/route/10586802...        1   \n",
       "\n",
       "                                              Location  Avg Stars  Your Stars  \\\n",
       "35   Illinois > *Jackson Falls > C. North Falls > G...        3.2         4.0   \n",
       "104  Illinois > *Jackson Falls > B. West Falls > A....        2.9         3.0   \n",
       "249  Illinois > *Jackson Falls > A. North Canyon > ...        2.8         3.0   \n",
       "290  International > North America > Mexico > Nuevo...        3.5         2.0   \n",
       "341  Kentucky > Red River Gorge > Northern Gorge > ...        3.1         3.0   \n",
       "\n",
       "    Style Lead Style         Route Type    Your Rating  Length  Rating Code  \\\n",
       "35   Lead      Flash     Sport, Boulder          5.12b    35.0         7100   \n",
       "104  Lead    Onsight        Trad, Sport            NaN     NaN         3500   \n",
       "249  Lead   Redpoint          Sport, TR            5.6     NaN         1600   \n",
       "290  Lead    Onsight        Trad, Sport            NaN   135.0         2400   \n",
       "341    TR        NaN  Trad, TR, Boulder  5.11c V3 PG13    20.0         5200   \n",
       "\n",
       "     Year Rating_2          State             Area  \\\n",
       "35   2020       V5       Illinois    Jackson Falls   \n",
       "104  2019     PG13       Illinois    Jackson Falls   \n",
       "249  2018     None       Illinois    Jackson Falls   \n",
       "290  2018     None  International    North America   \n",
       "341  2017     V3 X       Kentucky  Red River Gorge   \n",
       "\n",
       "                                               Subarea  \n",
       "35                       C. North Falls > G. Main Pool  \n",
       "104                     B. West Falls > A. The Gallery  \n",
       "249                     A. North Canyon > A. Mr. Jimmy  \n",
       "290  Mexico > Nuevo Leon > El Potrero Chico > The D...  \n",
       "341                         Northern Gorge > Long Wall  "
      ]
     },
     "execution_count": 18,
     "metadata": {},
     "output_type": "execute_result"
    }
   ],
   "source": [
    "ticks[ticks['Route Type'].str.contains(',')]"
   ]
  },
  {
   "cell_type": "markdown",
   "id": "effective-swing",
   "metadata": {},
   "source": [
    "Based on the author's personal experience, the first four climbs returned should be categorized as sport. The style in which the author climbed the last climb returned fits best in the trad category. We will manually categorize these climbs as such."
   ]
  },
  {
   "cell_type": "code",
   "execution_count": 19,
   "id": "checked-drain",
   "metadata": {},
   "outputs": [],
   "source": [
    "ticks.loc[[35, 104, 249, 290], 'Route Type'] = 'Sport'\n",
    "ticks.loc[341, 'Route Type'] = 'Trad'"
   ]
  },
  {
   "cell_type": "markdown",
   "id": "chief-jacket",
   "metadata": {},
   "source": [
    "The `Your Rating` column contains values similar to the `Rating` column but is a rating given by a climber when a climb is ticked. Rating a climb is optional, so it makes sense for the column to contain null values."
   ]
  },
  {
   "cell_type": "code",
   "execution_count": 20,
   "id": "progressive-underwear",
   "metadata": {},
   "outputs": [
    {
     "data": {
      "text/plain": [
       "5.12a            19\n",
       "5.9              14\n",
       "5.8              13\n",
       "5.10a            13\n",
       "5.10b            12\n",
       "5.11a            11\n",
       "5.12c            11\n",
       "5.12b             9\n",
       "5.10c             9\n",
       "5.13a             7\n",
       "V2                6\n",
       "5.11c             6\n",
       "V5                5\n",
       "5.10d             4\n",
       "5.11b             3\n",
       "5.7               2\n",
       "5.11d             2\n",
       "V6                2\n",
       "V0 R              2\n",
       "5.6               2\n",
       "V3                2\n",
       "V0                1\n",
       "5.8+              1\n",
       "V6+               1\n",
       "V4                1\n",
       "5.11c V3 PG13     1\n",
       "5.13c             1\n",
       "5.13a PG13        1\n",
       "V7                1\n",
       "5.9 R             1\n",
       "Name: Your Rating, dtype: int64"
      ]
     },
     "execution_count": 20,
     "metadata": {},
     "output_type": "execute_result"
    }
   ],
   "source": [
    "ticks['Your Rating'].value_counts()"
   ]
  },
  {
   "cell_type": "markdown",
   "id": "bibliographic-shield",
   "metadata": {},
   "source": [
    "Similar to the `Rating` column, `Your Rating` contains some values with multiple grades. We will split `Your Rating` into two columns as well."
   ]
  },
  {
   "cell_type": "code",
   "execution_count": 21,
   "id": "tropical-manchester",
   "metadata": {},
   "outputs": [],
   "source": [
    "ticks[['Your Rating', 'Your Rating_2']] = ticks['Your Rating'].str.split(n=1, expand=True)"
   ]
  },
  {
   "cell_type": "markdown",
   "id": "false-compatibility",
   "metadata": {},
   "source": [
    "`Length` is the last column with null values. It lists the total length of a given climb in feet, but length is not always included in the description of a climb. It can take an arbitrary positive number, so the `float64` type is appropriate. Let us use the `describe()` method to confirm the column contains a reasonable distribution."
   ]
  },
  {
   "cell_type": "code",
   "execution_count": 22,
   "id": "alternate-convention",
   "metadata": {},
   "outputs": [
    {
     "data": {
      "text/plain": [
       "count     269.000000\n",
       "mean       81.137546\n",
       "std       169.779092\n",
       "min         5.000000\n",
       "25%        40.000000\n",
       "50%        55.000000\n",
       "75%        70.000000\n",
       "max      2300.000000\n",
       "Name: Length, dtype: float64"
      ]
     },
     "execution_count": 22,
     "metadata": {},
     "output_type": "execute_result"
    }
   ],
   "source": [
    "ticks['Length'].describe()"
   ]
  },
  {
   "cell_type": "markdown",
   "id": "minimal-facial",
   "metadata": {},
   "source": [
    "The minimum is acceptable considering how short some boulder problems are, and the interquartile ranges are appropriate given that the author has done mostly single pitch sport climbing. The standard deviation and maximum indicate that there may be some outliers. Let us look at every climb longer than 500 feet to comfirm their lengths are correct."
   ]
  },
  {
   "cell_type": "code",
   "execution_count": 23,
   "id": "united-tutorial",
   "metadata": {},
   "outputs": [
    {
     "data": {
      "text/html": [
       "<div>\n",
       "<style scoped>\n",
       "    .dataframe tbody tr th:only-of-type {\n",
       "        vertical-align: middle;\n",
       "    }\n",
       "\n",
       "    .dataframe tbody tr th {\n",
       "        vertical-align: top;\n",
       "    }\n",
       "\n",
       "    .dataframe thead th {\n",
       "        text-align: right;\n",
       "    }\n",
       "</style>\n",
       "<table border=\"1\" class=\"dataframe\">\n",
       "  <thead>\n",
       "    <tr style=\"text-align: right;\">\n",
       "      <th></th>\n",
       "      <th>Date</th>\n",
       "      <th>Route</th>\n",
       "      <th>Rating</th>\n",
       "      <th>Notes</th>\n",
       "      <th>URL</th>\n",
       "      <th>Pitches</th>\n",
       "      <th>Location</th>\n",
       "      <th>Avg Stars</th>\n",
       "      <th>Your Stars</th>\n",
       "      <th>Style</th>\n",
       "      <th>...</th>\n",
       "      <th>Route Type</th>\n",
       "      <th>Your Rating</th>\n",
       "      <th>Length</th>\n",
       "      <th>Rating Code</th>\n",
       "      <th>Year</th>\n",
       "      <th>Rating_2</th>\n",
       "      <th>State</th>\n",
       "      <th>Area</th>\n",
       "      <th>Subarea</th>\n",
       "      <th>Your Rating_2</th>\n",
       "    </tr>\n",
       "  </thead>\n",
       "  <tbody>\n",
       "    <tr>\n",
       "      <th>203</th>\n",
       "      <td>2018-05-26</td>\n",
       "      <td>Crimson Chrysalis</td>\n",
       "      <td>5.8+</td>\n",
       "      <td>Led pitches 1, 4, and 7. An easy romp. Got rop...</td>\n",
       "      <td>https://www.mountainproject.com/route/10573228...</td>\n",
       "      <td>9</td>\n",
       "      <td>Nevada &gt; Southern Nevada &gt; Red Rock &gt; 11-Junip...</td>\n",
       "      <td>3.6</td>\n",
       "      <td>4.0</td>\n",
       "      <td>Lead</td>\n",
       "      <td>...</td>\n",
       "      <td>Trad</td>\n",
       "      <td>NaN</td>\n",
       "      <td>1000.0</td>\n",
       "      <td>2200</td>\n",
       "      <td>2018</td>\n",
       "      <td>None</td>\n",
       "      <td>Nevada</td>\n",
       "      <td>Southern Nevada</td>\n",
       "      <td>Red Rock &gt; 11-Juniper Canyon &gt; Cloud Tower</td>\n",
       "      <td>NaN</td>\n",
       "    </tr>\n",
       "    <tr>\n",
       "      <th>204</th>\n",
       "      <td>2018-05-25</td>\n",
       "      <td>Levitation 29</td>\n",
       "      <td>5.11b/c</td>\n",
       "      <td>Led pitches 2, 5, 7, 8+9. Aided through crux o...</td>\n",
       "      <td>https://www.mountainproject.com/route/10573244...</td>\n",
       "      <td>10</td>\n",
       "      <td>Nevada &gt; Southern Nevada &gt; Red Rock &gt; 12-Oak C...</td>\n",
       "      <td>3.8</td>\n",
       "      <td>4.0</td>\n",
       "      <td>Lead</td>\n",
       "      <td>...</td>\n",
       "      <td>Trad</td>\n",
       "      <td>NaN</td>\n",
       "      <td>700.0</td>\n",
       "      <td>5100</td>\n",
       "      <td>2018</td>\n",
       "      <td>None</td>\n",
       "      <td>Nevada</td>\n",
       "      <td>Southern Nevada</td>\n",
       "      <td>Red Rock &gt; 12-Oak Creek Canyon &gt; Eagle Wall</td>\n",
       "      <td>NaN</td>\n",
       "    </tr>\n",
       "    <tr>\n",
       "      <th>216</th>\n",
       "      <td>2018-05-18</td>\n",
       "      <td>Selaginella</td>\n",
       "      <td>5.8</td>\n",
       "      <td>Led pitches 2 and 4. Almost got off route by t...</td>\n",
       "      <td>https://www.mountainproject.com/route/10609704...</td>\n",
       "      <td>4</td>\n",
       "      <td>California &gt; Yosemite National Park &gt; Yosemite...</td>\n",
       "      <td>3.1</td>\n",
       "      <td>4.0</td>\n",
       "      <td>Lead</td>\n",
       "      <td>...</td>\n",
       "      <td>Trad</td>\n",
       "      <td>NaN</td>\n",
       "      <td>560.0</td>\n",
       "      <td>2100</td>\n",
       "      <td>2018</td>\n",
       "      <td>None</td>\n",
       "      <td>California</td>\n",
       "      <td>Yosemite National Park</td>\n",
       "      <td>Yosemite Valley &gt; Valley North Side &gt; E. Yosem...</td>\n",
       "      <td>NaN</td>\n",
       "    </tr>\n",
       "    <tr>\n",
       "      <th>304</th>\n",
       "      <td>2018-01-08</td>\n",
       "      <td>Time Wave Zero</td>\n",
       "      <td>5.12a</td>\n",
       "      <td>Led pitches... Uhh... A lot</td>\n",
       "      <td>https://www.mountainproject.com/route/10608760...</td>\n",
       "      <td>22</td>\n",
       "      <td>International &gt; North America &gt; Mexico &gt; Nuevo...</td>\n",
       "      <td>3.8</td>\n",
       "      <td>3.0</td>\n",
       "      <td>Lead</td>\n",
       "      <td>...</td>\n",
       "      <td>Sport</td>\n",
       "      <td>NaN</td>\n",
       "      <td>2300.0</td>\n",
       "      <td>6600</td>\n",
       "      <td>2018</td>\n",
       "      <td>None</td>\n",
       "      <td>International</td>\n",
       "      <td>North America</td>\n",
       "      <td>Mexico &gt; Nuevo Leon &gt; El Potrero Chico &gt; Timew...</td>\n",
       "      <td>NaN</td>\n",
       "    </tr>\n",
       "    <tr>\n",
       "      <th>305</th>\n",
       "      <td>2018-01-06</td>\n",
       "      <td>El Sendero Diablo (The Devil's Path)</td>\n",
       "      <td>5.11c</td>\n",
       "      <td>Led pitches 2, 4, and 5. Amazing, varied climb...</td>\n",
       "      <td>https://www.mountainproject.com/route/10617580...</td>\n",
       "      <td>6</td>\n",
       "      <td>International &gt; North America &gt; Mexico &gt; Nuevo...</td>\n",
       "      <td>3.8</td>\n",
       "      <td>4.0</td>\n",
       "      <td>Lead</td>\n",
       "      <td>...</td>\n",
       "      <td>Sport</td>\n",
       "      <td>5.11c</td>\n",
       "      <td>600.0</td>\n",
       "      <td>5200</td>\n",
       "      <td>2018</td>\n",
       "      <td>None</td>\n",
       "      <td>International</td>\n",
       "      <td>North America</td>\n",
       "      <td>Mexico &gt; Nuevo Leon &gt; El Potrero Chico &gt; The O...</td>\n",
       "      <td>None</td>\n",
       "    </tr>\n",
       "    <tr>\n",
       "      <th>307</th>\n",
       "      <td>2018-01-04</td>\n",
       "      <td>Treasure of the Sierra Madre</td>\n",
       "      <td>5.10c</td>\n",
       "      <td>NaN</td>\n",
       "      <td>https://www.mountainproject.com/route/10594950...</td>\n",
       "      <td>7</td>\n",
       "      <td>International &gt; North America &gt; Mexico &gt; Nuevo...</td>\n",
       "      <td>3.5</td>\n",
       "      <td>3.0</td>\n",
       "      <td>Lead</td>\n",
       "      <td>...</td>\n",
       "      <td>Sport</td>\n",
       "      <td>5.10c</td>\n",
       "      <td>700.0</td>\n",
       "      <td>3200</td>\n",
       "      <td>2018</td>\n",
       "      <td>None</td>\n",
       "      <td>International</td>\n",
       "      <td>North America</td>\n",
       "      <td>Mexico &gt; Nuevo Leon &gt; El Potrero Chico &gt; Mota ...</td>\n",
       "      <td>None</td>\n",
       "    </tr>\n",
       "  </tbody>\n",
       "</table>\n",
       "<p>6 rows × 21 columns</p>\n",
       "</div>"
      ],
      "text/plain": [
       "          Date                                 Route   Rating  \\\n",
       "203 2018-05-26                     Crimson Chrysalis     5.8+   \n",
       "204 2018-05-25                         Levitation 29  5.11b/c   \n",
       "216 2018-05-18                           Selaginella      5.8   \n",
       "304 2018-01-08                        Time Wave Zero    5.12a   \n",
       "305 2018-01-06  El Sendero Diablo (The Devil's Path)    5.11c   \n",
       "307 2018-01-04          Treasure of the Sierra Madre    5.10c   \n",
       "\n",
       "                                                 Notes  \\\n",
       "203  Led pitches 1, 4, and 7. An easy romp. Got rop...   \n",
       "204  Led pitches 2, 5, 7, 8+9. Aided through crux o...   \n",
       "216  Led pitches 2 and 4. Almost got off route by t...   \n",
       "304                        Led pitches... Uhh... A lot   \n",
       "305  Led pitches 2, 4, and 5. Amazing, varied climb...   \n",
       "307                                                NaN   \n",
       "\n",
       "                                                   URL  Pitches  \\\n",
       "203  https://www.mountainproject.com/route/10573228...        9   \n",
       "204  https://www.mountainproject.com/route/10573244...       10   \n",
       "216  https://www.mountainproject.com/route/10609704...        4   \n",
       "304  https://www.mountainproject.com/route/10608760...       22   \n",
       "305  https://www.mountainproject.com/route/10617580...        6   \n",
       "307  https://www.mountainproject.com/route/10594950...        7   \n",
       "\n",
       "                                              Location  Avg Stars  Your Stars  \\\n",
       "203  Nevada > Southern Nevada > Red Rock > 11-Junip...        3.6         4.0   \n",
       "204  Nevada > Southern Nevada > Red Rock > 12-Oak C...        3.8         4.0   \n",
       "216  California > Yosemite National Park > Yosemite...        3.1         4.0   \n",
       "304  International > North America > Mexico > Nuevo...        3.8         3.0   \n",
       "305  International > North America > Mexico > Nuevo...        3.8         4.0   \n",
       "307  International > North America > Mexico > Nuevo...        3.5         3.0   \n",
       "\n",
       "    Style  ... Route Type Your Rating  Length  Rating Code  Year  Rating_2  \\\n",
       "203  Lead  ...       Trad         NaN  1000.0         2200  2018      None   \n",
       "204  Lead  ...       Trad         NaN   700.0         5100  2018      None   \n",
       "216  Lead  ...       Trad         NaN   560.0         2100  2018      None   \n",
       "304  Lead  ...      Sport         NaN  2300.0         6600  2018      None   \n",
       "305  Lead  ...      Sport       5.11c   600.0         5200  2018      None   \n",
       "307  Lead  ...      Sport       5.10c   700.0         3200  2018      None   \n",
       "\n",
       "             State                    Area  \\\n",
       "203         Nevada         Southern Nevada   \n",
       "204         Nevada         Southern Nevada   \n",
       "216     California  Yosemite National Park   \n",
       "304  International           North America   \n",
       "305  International           North America   \n",
       "307  International           North America   \n",
       "\n",
       "                                               Subarea Your Rating_2  \n",
       "203         Red Rock > 11-Juniper Canyon > Cloud Tower           NaN  \n",
       "204        Red Rock > 12-Oak Creek Canyon > Eagle Wall           NaN  \n",
       "216  Yosemite Valley > Valley North Side > E. Yosem...           NaN  \n",
       "304  Mexico > Nuevo Leon > El Potrero Chico > Timew...           NaN  \n",
       "305  Mexico > Nuevo Leon > El Potrero Chico > The O...          None  \n",
       "307  Mexico > Nuevo Leon > El Potrero Chico > Mota ...          None  \n",
       "\n",
       "[6 rows x 21 columns]"
      ]
     },
     "execution_count": 23,
     "metadata": {},
     "output_type": "execute_result"
    }
   ],
   "source": [
    "ticks[ticks['Length'] > 500]"
   ]
  },
  {
   "cell_type": "markdown",
   "id": "several-velvet",
   "metadata": {},
   "source": [
    "The climbs returned are all long multi-pitch routes, so the lengths reported can be reasonably assumed to be correct.\n",
    "\n",
    "The final column is the `Rating Code` column. It appears that this encodes the `Rating` column numerically. This is not as human readable as the `Rating` column, and there is no reference for the encoding, so this column does not appear to be particularly useful."
   ]
  },
  {
   "cell_type": "code",
   "execution_count": 24,
   "id": "increasing-double",
   "metadata": {},
   "outputs": [
    {
     "data": {
      "text/plain": [
       "6600    46\n",
       "2400    27\n",
       "2900    25\n",
       "6900    23\n",
       "7200    23\n",
       "Name: Rating Code, dtype: int64"
      ]
     },
     "execution_count": 24,
     "metadata": {},
     "output_type": "execute_result"
    }
   ],
   "source": [
    "ticks['Rating Code'].value_counts().head()"
   ]
  },
  {
   "cell_type": "markdown",
   "id": "entertaining-factory",
   "metadata": {},
   "source": [
    "## Analysis\n",
    "\n",
    "Now that the tick list has been cleaned and normalized, we can start using it to answer questions. \n",
    "\n",
    "When cleaning we noted that there were three primary climbing disciplines listed: sport, trad, and boulder. Becuase these disciplines are very different styles of climbing and use different grading systems, it makes more sense to make comparisons only within each discipline. Let us plot the breakdown of route types to verify there are enough data points in each discipline."
   ]
  },
  {
   "cell_type": "code",
   "execution_count": 25,
   "id": "fluid-leader",
   "metadata": {},
   "outputs": [
    {
     "data": {
      "text/plain": [
       "Text(0, 0.5, 'Number of Ticks')"
      ]
     },
     "execution_count": 25,
     "metadata": {},
     "output_type": "execute_result"
    },
    {
     "data": {
      "image/png": "[encoded data removed]",
      "text/plain": [
       "<Figure size 864x432 with 1 Axes>"
      ]
     },
     "metadata": {},
     "output_type": "display_data"
    }
   ],
   "source": [
    "# Set seaborn styling\n",
    "sns.set_theme(style='darkgrid')\n",
    "sns.set_context('notebook', font_scale=1.5)\n",
    "\n",
    "# Create figure and axis objects\n",
    "fig, ax = plt.subplots(figsize=(12,6))\n",
    "\n",
    "# Plot data\n",
    "sns.countplot(x=\"Route Type\", data=ticks)\n",
    "\n",
    "# Add/format text\n",
    "plt.title(\"Ticks by Route Type\")\n",
    "plt.ylabel(\"Number of Ticks\")"
   ]
  },
  {
   "cell_type": "markdown",
   "id": "based-survey",
   "metadata": {},
   "source": [
    "Sport climbing is by far the most represented in this tick list. As such, most of the subsequent analysis will be done only on ticks for sport climbs. Let up split our data frame into three data frames--one for each discipline."
   ]
  },
  {
   "cell_type": "code",
   "execution_count": 26,
   "id": "black-rochester",
   "metadata": {},
   "outputs": [],
   "source": [
    "sport_ticks = ticks[ticks['Route Type'] == 'Sport'].copy()\n",
    "boulder_ticks = ticks[ticks['Route Type'] == 'Boulder'].copy()\n",
    "trad_ticks = ticks[ticks['Route Type'] == 'Trad'].copy()"
   ]
  },
  {
   "cell_type": "markdown",
   "id": "helpful-disclaimer",
   "metadata": {},
   "source": [
    "With the sport climbs isolated, an obvious place to start is plotting the distrubution of grades. Let us preview the distribution using the `value_counts()` method."
   ]
  },
  {
   "cell_type": "code",
   "execution_count": 27,
   "id": "conservative-density",
   "metadata": {},
   "outputs": [
    {
     "data": {
      "text/plain": [
       "5.12a      45\n",
       "5.10b      25\n",
       "5.9        24\n",
       "5.12b      23\n",
       "5.12c      23\n",
       "5.11a      20\n",
       "5.10a      20\n",
       "5.13a      16\n",
       "5.12d      12\n",
       "5.11c      11\n",
       "5.10d      10\n",
       "5.10c      10\n",
       "5.11b       9\n",
       "5.8         7\n",
       "5.8+        5\n",
       "5.11d       5\n",
       "5.12b/c     4\n",
       "5.7         2\n",
       "5.6         2\n",
       "5.7+        2\n",
       "5.10c/d     1\n",
       "5.11-       1\n",
       "5.13c       1\n",
       "5.8-        1\n",
       "5.9+        1\n",
       "5.12a/b     1\n",
       "5.11b/c     1\n",
       "5.10+       1\n",
       "5.10-       1\n",
       "Name: Rating, dtype: int64"
      ]
     },
     "execution_count": 27,
     "metadata": {},
     "output_type": "execute_result"
    }
   ],
   "source": [
    "sport_ticks['Rating'].value_counts()"
   ]
  },
  {
   "cell_type": "markdown",
   "id": "dense-olive",
   "metadata": {},
   "source": [
    "There is some inconsistency in the rating system, so it is not ready to be plotted right away. Grades 5.10 and above are typically broken into letter grades from a (easiest) to d (hardest), but sometimes a + or - will be used instead. Let us convert any +s and -s for grades 5.10 and above to d and a, respectively. We will also strip the + and - from grades below 5.10 and round \"slash\" grades (such as b/c) down to the lower grade."
   ]
  },
  {
   "cell_type": "code",
   "execution_count": 28,
   "id": "formal-portland",
   "metadata": {},
   "outputs": [
    {
     "data": {
      "text/plain": [
       "5.12a    46\n",
       "5.12b    27\n",
       "5.10b    25\n",
       "5.9      25\n",
       "5.12c    23\n",
       "5.10a    21\n",
       "5.11a    21\n",
       "5.13a    16\n",
       "5.8      13\n",
       "5.12d    12\n",
       "5.11c    11\n",
       "5.10c    11\n",
       "5.10d    11\n",
       "5.11b    10\n",
       "5.11d     5\n",
       "5.7       4\n",
       "5.6       2\n",
       "5.13c     1\n",
       "Name: Rating, dtype: int64"
      ]
     },
     "execution_count": 28,
     "metadata": {},
     "output_type": "execute_result"
    }
   ],
   "source": [
    "sport_ticks['Rating'] = (sport_ticks['Rating']\n",
    "                         .str.replace(r'10-', '10a', regex=False)\n",
    "                         .str.replace(r'10+', '10d', regex=False)\n",
    "                         .str.replace(r'11-', '11a', regex=False)\n",
    "                        )\n",
    "sport_ticks['Rating'] = sport_ticks['Rating'].str.replace(r'(\\/[a-d])|[+\\-]', '', regex=True)\n",
    "sport_ticks['Rating'].value_counts()"
   ]
  },
  {
   "cell_type": "markdown",
   "id": "retired-differential",
   "metadata": {},
   "source": [
    "The `Rating` column is finally clean enough to be plotted. Let us also create a `Short Rating` column that removes the a-d subdivision to reduce the granularity of the ratings."
   ]
  },
  {
   "cell_type": "code",
   "execution_count": 29,
   "id": "expired-motorcycle",
   "metadata": {},
   "outputs": [
    {
     "data": {
      "text/plain": [
       "5.12    108\n",
       "5.10     68\n",
       "5.11     47\n",
       "5.9      25\n",
       "5.13     17\n",
       "5.8      13\n",
       "5.7       4\n",
       "5.6       2\n",
       "Name: Short Rating, dtype: int64"
      ]
     },
     "execution_count": 29,
     "metadata": {},
     "output_type": "execute_result"
    }
   ],
   "source": [
    "sport_ticks['Short Rating'] = sport_ticks['Rating'].str[:4]\n",
    "sport_ticks['Short Rating'].value_counts()"
   ]
  },
  {
   "cell_type": "markdown",
   "id": "behavioral-legislation",
   "metadata": {},
   "source": [
    "There is not a clean way to sort the uncapped decimal system presented here, so we will manualy specify the order of grades by increasing difficulty."
   ]
  },
  {
   "cell_type": "code",
   "execution_count": 30,
   "id": "freelance-introduction",
   "metadata": {},
   "outputs": [],
   "source": [
    "grade_order = ['5.6', '5.7', '5.8', '5.9', '5.10', '5.11', '5.12', '5.13']"
   ]
  },
  {
   "cell_type": "markdown",
   "id": "magnetic-going",
   "metadata": {},
   "source": [
    "With these pieces in place, we can plot the number of ticks by sport grade to determine which grades the author most frequently attempts."
   ]
  },
  {
   "cell_type": "code",
   "execution_count": 31,
   "id": "electrical-falls",
   "metadata": {},
   "outputs": [
    {
     "data": {
      "text/plain": [
       "Text(0, 0.5, 'Number of Ticks')"
      ]
     },
     "execution_count": 31,
     "metadata": {},
     "output_type": "execute_result"
    },
    {
     "data": {
      "image/png": "[encoded data removed]",
      "text/plain": [
       "<Figure size 864x432 with 1 Axes>"
      ]
     },
     "metadata": {},
     "output_type": "display_data"
    }
   ],
   "source": [
    "# Create figure and axis objects\n",
    "fig, ax = plt.subplots(figsize=(12,6))\n",
    "\n",
    "# Set seaborn styling\n",
    "sns.set_theme(style='darkgrid')\n",
    "sns.set_context('notebook', font_scale=1.5)\n",
    "\n",
    "# Plot data\n",
    "sns.countplot(x=\"Short Rating\", data=sport_ticks, order=grade_order)\n",
    "\n",
    "# Add/format text\n",
    "plt.title(\"Number of Ticks by Sport Grade\")\n",
    "plt.xlabel(\"Grade\")\n",
    "plt.ylabel(\"Number of Ticks\")"
   ]
  },
  {
   "cell_type": "markdown",
   "id": "floppy-hayes",
   "metadata": {},
   "source": [
    "There are over 100 ticks for 5.12 climbs, followed by around 70 ticks for 5.10 climbs. It is interesting that there is a dip in the distribution in the 5.11 range. This can in part be explained by the fact that there are fewer 5.11 rated climbs in the areas the author frequents than 5.12 climbs. There is a sharp dropoff at the 5.13 grade.\n",
    "\n",
    "One appealing aspect of sport climbing is trying to send (climb without falling) progressively more difficult routes. \"Redpoint\", \"Onsight\", and \"Flash\" are all styles in which a route can be sent. We will isolate sport routes at grades 5.12a and above that have been sent in this tick list. We also want to drop any duplicates in that list so we do not count any repeat ascents."
   ]
  },
  {
   "cell_type": "code",
   "execution_count": 32,
   "id": "multiple-order",
   "metadata": {},
   "outputs": [
    {
     "data": {
      "text/plain": [
       "5.12a    18\n",
       "5.12b    10\n",
       "5.12c     7\n",
       "5.12d     3\n",
       "5.13a     3\n",
       "5.13c     1\n",
       "Name: Rating, dtype: int64"
      ]
     },
     "execution_count": 32,
     "metadata": {},
     "output_type": "execute_result"
    }
   ],
   "source": [
    "# Omit 5.13b because it is not in the 'Ratings' series anyways\n",
    "hard_grades = ['5.12a', '5.12b', '5.12c', '5.12d', '5.13a', '5.13b', '5.13c']\n",
    "sent_styles = ['Redpoint', 'Onsight', 'Flash']\n",
    "hard_sends = sport_ticks[sport_ticks['Rating'].isin(hard_grades) & \n",
    "                         sport_ticks['Lead Style'].isin(sent_styles)]\n",
    "hard_sends = hard_sends.drop_duplicates(subset='Route', keep='last')\n",
    "\n",
    "hard_sends['Rating'].value_counts().sort_index()"
   ]
  },
  {
   "cell_type": "markdown",
   "id": "egyptian-saturn",
   "metadata": {},
   "source": [
    "We now have list of all sends at or above 5.12a. Note that 5.13b is missing because there are no ticks for climbs rated 5.13b. Let us plot the results."
   ]
  },
  {
   "cell_type": "code",
   "execution_count": 33,
   "id": "partial-receipt",
   "metadata": {},
   "outputs": [
    {
     "data": {
      "text/plain": [
       "([<matplotlib.axis.YTick at 0x7f5f28a9d550>,\n",
       "  <matplotlib.axis.YTick at 0x7f5f28a9d130>,\n",
       "  <matplotlib.axis.YTick at 0x7f5f28ac1190>,\n",
       "  <matplotlib.axis.YTick at 0x7f5f28ac1760>,\n",
       "  <matplotlib.axis.YTick at 0x7f5f28a639a0>],\n",
       " [Text(0, 0, ''),\n",
       "  Text(0, 0, ''),\n",
       "  Text(0, 0, ''),\n",
       "  Text(0, 0, ''),\n",
       "  Text(0, 0, '')])"
      ]
     },
     "execution_count": 33,
     "metadata": {},
     "output_type": "execute_result"
    },
    {
     "data": {
      "image/png": "[encoded data removed]",
      "text/plain": [
       "<Figure size 864x432 with 1 Axes>"
      ]
     },
     "metadata": {},
     "output_type": "display_data"
    }
   ],
   "source": [
    "# Create figure and axis objects\n",
    "fig, ax = plt.subplots(figsize=(12,6))\n",
    "\n",
    "# Plot data\n",
    "sns.countplot(x=\"Rating\", data=hard_sends, order=hard_grades)\n",
    "\n",
    "# Add/format text\n",
    "plt.title(\"Number of Sends by Sport Grade 5.12 and Above\")\n",
    "plt.xlabel(\"Grade\")\n",
    "plt.ylabel(\"Number of Sends\")\n",
    "plt.yticks(np.arange(0,20,4))"
   ]
  },
  {
   "cell_type": "markdown",
   "id": "antique-concern",
   "metadata": {},
   "source": [
    "As expected, there are progressively fewer sends ticked as the climbs increase in difficulty. This is consistent with the common recommendation of building a \"pyramid\" of increasingly difficult routes when trying to improve one's maximum grade climbed. Further improvements for the author should be preceded by increasing the number of sends in the 5.12d to 5.13b range.\n",
    "\n",
    "We can also measure progress by tracking sends at these higher grades over time. Let us use a pivot table to break down sends by both grade and year."
   ]
  },
  {
   "cell_type": "code",
   "execution_count": 34,
   "id": "wireless-reasoning",
   "metadata": {},
   "outputs": [
    {
     "data": {
      "text/html": [
       "<div>\n",
       "<style scoped>\n",
       "    .dataframe tbody tr th:only-of-type {\n",
       "        vertical-align: middle;\n",
       "    }\n",
       "\n",
       "    .dataframe tbody tr th {\n",
       "        vertical-align: top;\n",
       "    }\n",
       "\n",
       "    .dataframe thead th {\n",
       "        text-align: right;\n",
       "    }\n",
       "</style>\n",
       "<table border=\"1\" class=\"dataframe\">\n",
       "  <thead>\n",
       "    <tr style=\"text-align: right;\">\n",
       "      <th>Rating</th>\n",
       "      <th>5.12a</th>\n",
       "      <th>5.12b</th>\n",
       "      <th>5.12c</th>\n",
       "      <th>5.12d</th>\n",
       "      <th>5.13a</th>\n",
       "      <th>5.13b</th>\n",
       "      <th>5.13c</th>\n",
       "    </tr>\n",
       "    <tr>\n",
       "      <th>Year</th>\n",
       "      <th></th>\n",
       "      <th></th>\n",
       "      <th></th>\n",
       "      <th></th>\n",
       "      <th></th>\n",
       "      <th></th>\n",
       "      <th></th>\n",
       "    </tr>\n",
       "  </thead>\n",
       "  <tbody>\n",
       "    <tr>\n",
       "      <th>2017</th>\n",
       "      <td>1</td>\n",
       "      <td>0</td>\n",
       "      <td>0</td>\n",
       "      <td>0</td>\n",
       "      <td>0</td>\n",
       "      <td>0</td>\n",
       "      <td>0</td>\n",
       "    </tr>\n",
       "    <tr>\n",
       "      <th>2018</th>\n",
       "      <td>4</td>\n",
       "      <td>0</td>\n",
       "      <td>1</td>\n",
       "      <td>0</td>\n",
       "      <td>1</td>\n",
       "      <td>0</td>\n",
       "      <td>0</td>\n",
       "    </tr>\n",
       "    <tr>\n",
       "      <th>2019</th>\n",
       "      <td>9</td>\n",
       "      <td>4</td>\n",
       "      <td>3</td>\n",
       "      <td>0</td>\n",
       "      <td>2</td>\n",
       "      <td>0</td>\n",
       "      <td>0</td>\n",
       "    </tr>\n",
       "    <tr>\n",
       "      <th>2020</th>\n",
       "      <td>4</td>\n",
       "      <td>6</td>\n",
       "      <td>3</td>\n",
       "      <td>3</td>\n",
       "      <td>0</td>\n",
       "      <td>0</td>\n",
       "      <td>1</td>\n",
       "    </tr>\n",
       "  </tbody>\n",
       "</table>\n",
       "</div>"
      ],
      "text/plain": [
       "Rating  5.12a  5.12b  5.12c  5.12d  5.13a  5.13b  5.13c\n",
       "Year                                                   \n",
       "2017        1      0      0      0      0      0      0\n",
       "2018        4      0      1      0      1      0      0\n",
       "2019        9      4      3      0      2      0      0\n",
       "2020        4      6      3      3      0      0      1"
      ]
     },
     "execution_count": 34,
     "metadata": {},
     "output_type": "execute_result"
    }
   ],
   "source": [
    "# Create pivot table \n",
    "send_table = pd.pivot_table(hard_sends, values='Route', index='Year', \n",
    "                            columns='Rating', aggfunc=len, fill_value=0)\n",
    "\n",
    "# Add missing 5.13b grade back in\n",
    "send_table.insert(5, '5.13b', 0)\n",
    "send_table"
   ]
  },
  {
   "cell_type": "markdown",
   "id": "official-attack",
   "metadata": {},
   "source": [
    "With the pivot table created, we can plot the data as a stacked bar chart to visualize the change in performance over time."
   ]
  },
  {
   "cell_type": "code",
   "execution_count": 35,
   "id": "another-timothy",
   "metadata": {},
   "outputs": [
    {
     "data": {
      "text/plain": [
       "([<matplotlib.axis.YTick at 0x7f5f28984370>,\n",
       "  <matplotlib.axis.YTick at 0x7f5f2897df10>,\n",
       "  <matplotlib.axis.YTick at 0x7f5f28a69fd0>,\n",
       "  <matplotlib.axis.YTick at 0x7f5f288a42e0>,\n",
       "  <matplotlib.axis.YTick at 0x7f5f288a47f0>,\n",
       "  <matplotlib.axis.YTick at 0x7f5f2891d5e0>],\n",
       " [Text(0, 0, ''),\n",
       "  Text(0, 0, ''),\n",
       "  Text(0, 0, ''),\n",
       "  Text(0, 0, ''),\n",
       "  Text(0, 0, ''),\n",
       "  Text(0, 0, '')])"
      ]
     },
     "execution_count": 35,
     "metadata": {},
     "output_type": "execute_result"
    },
    {
     "data": {
      "image/png": "[encoded data removed]",
      "text/plain": [
       "<Figure size 864x432 with 1 Axes>"
      ]
     },
     "metadata": {},
     "output_type": "display_data"
    }
   ],
   "source": [
    "# Plot data\n",
    "send_table.plot.bar(stacked=True, figsize=(12,6), rot=0)\n",
    "\n",
    "# Add/format text\n",
    "plt.title(\"Number of Sends 5.12 and Above by Year\")\n",
    "plt.xlabel(\"Year\")\n",
    "plt.ylabel(\"Number of Sends\")\n",
    "plt.yticks(np.arange(0,24,4))"
   ]
  },
  {
   "cell_type": "markdown",
   "id": "official-affect",
   "metadata": {},
   "source": [
    "This chart contains promising information, as it indicates progressive improvement year to year. The total number of climbs sent in 2020 did decrease slightly compared to 2019, but the overall quality of sends improved. Considering restricted travel capabilities for most of 2020, this is a satisfactory result. Overall, the \"base\" of the pyramid appears to be moving up each year. \n",
    "\n",
    "Now we will look at a slightly different metric. To \"onsight\" a climb is to send it on the first attempt without having any prior information about it. This can be particularly challenging, as the climber usually has to figure out what they are doing on the fly. A climber's ability to onsight is a measure of their ability to read routes and perform consistently at a certain level. Let us compare the number of routes onsighted to the total number of routes attempted per grade. Note that we are using `keep='last'` in the `drop_duplicates()` method because the data is sorted in reverse chronological order. This allows us to keep only the first attempt for any given route."
   ]
  },
  {
   "cell_type": "code",
   "execution_count": 36,
   "id": "cardiac-sucking",
   "metadata": {},
   "outputs": [
    {
     "data": {
      "text/html": [
       "<div>\n",
       "<style scoped>\n",
       "    .dataframe tbody tr th:only-of-type {\n",
       "        vertical-align: middle;\n",
       "    }\n",
       "\n",
       "    .dataframe tbody tr th {\n",
       "        vertical-align: top;\n",
       "    }\n",
       "\n",
       "    .dataframe thead th {\n",
       "        text-align: right;\n",
       "    }\n",
       "</style>\n",
       "<table border=\"1\" class=\"dataframe\">\n",
       "  <thead>\n",
       "    <tr style=\"text-align: right;\">\n",
       "      <th></th>\n",
       "      <th>Onsight</th>\n",
       "      <th>Total</th>\n",
       "      <th>Onsight Percent</th>\n",
       "    </tr>\n",
       "    <tr>\n",
       "      <th>Short Rating</th>\n",
       "      <th></th>\n",
       "      <th></th>\n",
       "      <th></th>\n",
       "    </tr>\n",
       "  </thead>\n",
       "  <tbody>\n",
       "    <tr>\n",
       "      <th>5.6</th>\n",
       "      <td>0</td>\n",
       "      <td>2</td>\n",
       "      <td>0.000000</td>\n",
       "    </tr>\n",
       "    <tr>\n",
       "      <th>5.7</th>\n",
       "      <td>1</td>\n",
       "      <td>4</td>\n",
       "      <td>25.000000</td>\n",
       "    </tr>\n",
       "    <tr>\n",
       "      <th>5.8</th>\n",
       "      <td>4</td>\n",
       "      <td>9</td>\n",
       "      <td>44.444444</td>\n",
       "    </tr>\n",
       "    <tr>\n",
       "      <th>5.9</th>\n",
       "      <td>9</td>\n",
       "      <td>19</td>\n",
       "      <td>47.368421</td>\n",
       "    </tr>\n",
       "    <tr>\n",
       "      <th>5.10</th>\n",
       "      <td>26</td>\n",
       "      <td>53</td>\n",
       "      <td>49.056604</td>\n",
       "    </tr>\n",
       "    <tr>\n",
       "      <th>5.11</th>\n",
       "      <td>9</td>\n",
       "      <td>40</td>\n",
       "      <td>22.500000</td>\n",
       "    </tr>\n",
       "    <tr>\n",
       "      <th>5.12</th>\n",
       "      <td>1</td>\n",
       "      <td>71</td>\n",
       "      <td>1.408451</td>\n",
       "    </tr>\n",
       "    <tr>\n",
       "      <th>5.13</th>\n",
       "      <td>0</td>\n",
       "      <td>10</td>\n",
       "      <td>0.000000</td>\n",
       "    </tr>\n",
       "  </tbody>\n",
       "</table>\n",
       "</div>"
      ],
      "text/plain": [
       "              Onsight  Total  Onsight Percent\n",
       "Short Rating                                 \n",
       "5.6                 0      2         0.000000\n",
       "5.7                 1      4        25.000000\n",
       "5.8                 4      9        44.444444\n",
       "5.9                 9     19        47.368421\n",
       "5.10               26     53        49.056604\n",
       "5.11                9     40        22.500000\n",
       "5.12                1     71         1.408451\n",
       "5.13                0     10         0.000000"
      ]
     },
     "execution_count": 36,
     "metadata": {},
     "output_type": "execute_result"
    }
   ],
   "source": [
    "# Drop duplicates and add indicator columns for onsight and total\n",
    "sport_first_attempt = sport_ticks.drop_duplicates(subset='Route', keep='last').copy()\n",
    "sport_first_attempt['Onsight'] = sport_first_attempt['Lead Style'] == 'Onsight'\n",
    "sport_first_attempt['Total'] = 1\n",
    "\n",
    "# Group by grade, sum over indicator columns, and use .loc to order by ascending grade\n",
    "onsight_proportion = (sport_first_attempt[['Short Rating', 'Onsight', 'Total']]\n",
    "                      .groupby('Short Rating')\n",
    "                      .sum()\n",
    "                      .loc[grade_order])\n",
    "onsight_proportion['Onsight Percent'] = 100 * onsight_proportion['Onsight'] / onsight_proportion['Total']\n",
    "onsight_proportion"
   ]
  },
  {
   "cell_type": "markdown",
   "id": "compact-observer",
   "metadata": {},
   "source": [
    "With our new data frame created we can now plot the proportion of climbs at each grade that were onsighted."
   ]
  },
  {
   "cell_type": "code",
   "execution_count": 37,
   "id": "unsigned-harris",
   "metadata": {},
   "outputs": [
    {
     "data": {
      "text/plain": [
       "Text(0, 0.5, 'Percentage Onsighted')"
      ]
     },
     "execution_count": 37,
     "metadata": {},
     "output_type": "execute_result"
    },
    {
     "data": {
      "image/png": "[encoded data removed]",
      "text/plain": [
       "<Figure size 864x432 with 1 Axes>"
      ]
     },
     "metadata": {},
     "output_type": "display_data"
    }
   ],
   "source": [
    "# Plot data\n",
    "onsight_proportion['Onsight Percent'].plot.bar(figsize=(12,6), rot=0)\n",
    "\n",
    "# Add/format text\n",
    "plt.title(\"Percentage of Sport Climbs Onsighted by Grade\")\n",
    "plt.xlabel(\"Grade\")\n",
    "plt.ylabel(\"Percentage Onsighted\")"
   ]
  },
  {
   "cell_type": "markdown",
   "id": "welcome-beatles",
   "metadata": {},
   "source": [
    "Interestingly, the proportion of climbs at the 5.6 and 5.7 grades that were climbed onsight is much lower than the middle grades, and the proportion of climbs onsighted actually increases up through 5.10. This can likely be attributed to the small sample sizes at lower grades and a tendency to attempt harder climbs as skill improved over time. With the sharp dropoff at 5.11 and beyond, there is certianly room for improvement in onsighting climbs. An appropriate goal for 2021 would be to increase the proportion of 5.11 and 5.12 climbs onsighted."
   ]
  }
 ],
 "metadata": {
  "kernelspec": {
   "display_name": "Python 3",
   "language": "python",
   "name": "python3"
  },
  "language_info": {
   "codemirror_mode": {
    "name": "ipython",
    "version": 3
   },
   "file_extension": ".py",
   "mimetype": "text/x-python",
   "name": "python",
   "nbconvert_exporter": "python",
   "pygments_lexer": "ipython3",
   "version": "3.8.5"
  }
 },
 "nbformat": 4,
 "nbformat_minor": 5
}
